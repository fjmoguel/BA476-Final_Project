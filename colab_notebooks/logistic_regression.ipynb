{
 "cells": [
  {
   "cell_type": "code",
   "execution_count": 2,
   "metadata": {},
   "outputs": [
    {
     "name": "stdout",
     "output_type": "stream",
     "text": [
      "Dataset 0-1 Logistic Regression Results:\n",
      "Accuracy: 0.8258051579648862\n",
      "Confusion Matrix:\n",
      "[[130836   3260]\n",
      " [ 26277   9190]]\n",
      "Classification Report:\n",
      "              precision    recall  f1-score   support\n",
      "\n",
      "           0       0.83      0.98      0.90    134096\n",
      "           1       0.74      0.26      0.38     35467\n",
      "\n",
      "    accuracy                           0.83    169563\n",
      "   macro avg       0.79      0.62      0.64    169563\n",
      "weighted avg       0.81      0.83      0.79    169563\n",
      "\n"
     ]
    }
   ],
   "source": [
    "import pandas as pd\n",
    "from sklearn.model_selection import train_test_split\n",
    "from sklearn.linear_model import LogisticRegression\n",
    "from sklearn.metrics import accuracy_score, confusion_matrix, classification_report\n",
    "from sklearn.preprocessing import StandardScaler, OneHotEncoder\n",
    "import numpy as np\n",
    "\n",
    "# Load the first dataset (flight_data_0-1.csv)\n",
    "file_path_0_1 = \"data/flight_data_0-1.csv\"\n",
    "data_0_1 = pd.read_csv(file_path_0_1)\n",
    "\n",
    "# Define features and target variable\n",
    "categorical_features = [\"AIRLINE\", \"ORIGIN\", \"DEST\"]\n",
    "numerical_features = [\n",
    "    \"ELAPSED_TIME\", \"AIR_TIME\", \"DISTANCE\", \"MONTH\", \"DAY_OF_WEEK\",\n",
    "    \"DEP_HOUR\", \"MONTHLY_DELAY_INDICATOR\", \"ROUTE_DELAY_INDICATOR\"\n",
    "]\n",
    "\n",
    "# Convert ARR_DELAY into a binary variable (0 = on time, 1 = delayed)\n",
    "data_0_1[\"ARR_DELAY_BINARY\"] = np.where(data_0_1[\"ARR_DELAY\"] > 0, 1, 0)\n",
    "\n",
    "# Define the target and features\n",
    "target = \"ARR_DELAY_BINARY\"\n",
    "X_0_1 = data_0_1[categorical_features + numerical_features]\n",
    "y_0_1 = data_0_1[target]\n",
    "\n",
    "# Split the dataset into train and test sets\n",
    "X_train_0_1, X_test_0_1, y_train_0_1, y_test_0_1 = train_test_split(X_0_1, y_0_1, test_size=0.2, random_state=42)\n",
    "\n",
    "# Preprocessing for the dataset\n",
    "# 1. Scale numerical features\n",
    "scaler_0_1 = StandardScaler()\n",
    "X_train_num_0_1 = scaler_0_1.fit_transform(X_train_0_1[numerical_features])\n",
    "X_test_num_0_1 = scaler_0_1.transform(X_test_0_1[numerical_features])\n",
    "\n",
    "# 2. Encode categorical features\n",
    "encoder_0_1 = OneHotEncoder(handle_unknown='ignore', sparse_output=False)\n",
    "X_train_cat_0_1 = encoder_0_1.fit_transform(X_train_0_1[categorical_features])\n",
    "X_test_cat_0_1 = encoder_0_1.transform(X_test_0_1[categorical_features])\n",
    "\n",
    "# Combine numerical and categorical features\n",
    "X_train_final_0_1 = np.concatenate([X_train_num_0_1, X_train_cat_0_1], axis=1)\n",
    "X_test_final_0_1 = np.concatenate([X_test_num_0_1, X_test_cat_0_1], axis=1)\n",
    "\n",
    "# Train the Logistic Regression model\n",
    "model_0_1 = LogisticRegression(max_iter=1000)\n",
    "model_0_1.fit(X_train_final_0_1, y_train_0_1)\n",
    "\n",
    "# Make predictions\n",
    "y_pred_0_1 = model_0_1.predict(X_test_final_0_1)\n",
    "\n",
    "# Evaluate the model\n",
    "accuracy_0_1 = accuracy_score(y_test_0_1, y_pred_0_1)\n",
    "conf_matrix_0_1 = confusion_matrix(y_test_0_1, y_pred_0_1)\n",
    "class_report_0_1 = classification_report(y_test_0_1, y_pred_0_1)\n",
    "\n",
    "# Print evaluation results\n",
    "print(\"Dataset 0-1 Logistic Regression Results:\")\n",
    "print(\"Accuracy:\", accuracy_0_1)\n",
    "print(\"Confusion Matrix:\")\n",
    "print(conf_matrix_0_1)\n",
    "print(\"Classification Report:\")\n",
    "print(class_report_0_1)\n"
   ]
  }
 ],
 "metadata": {
  "kernelspec": {
   "display_name": "Python 3",
   "language": "python",
   "name": "python3"
  },
  "language_info": {
   "codemirror_mode": {
    "name": "ipython",
    "version": 3
   },
   "file_extension": ".py",
   "mimetype": "text/x-python",
   "name": "python",
   "nbconvert_exporter": "python",
   "pygments_lexer": "ipython3",
   "version": "3.11.9"
  }
 },
 "nbformat": 4,
 "nbformat_minor": 2
}
