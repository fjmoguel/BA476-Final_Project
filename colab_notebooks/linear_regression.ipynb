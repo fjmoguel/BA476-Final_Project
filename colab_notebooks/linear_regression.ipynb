{
 "cells": [
  {
   "cell_type": "markdown",
   "metadata": {},
   "source": [
    "# 0-1 Dataset"
   ]
  },
  {
   "cell_type": "code",
   "execution_count": 9,
   "metadata": {},
   "outputs": [],
   "source": [
    "import pandas as pd\n",
    "from sklearn.model_selection import train_test_split\n",
    "from sklearn.linear_model import LinearRegression\n",
    "from sklearn.metrics import mean_squared_error, r2_score\n",
    "from sklearn.preprocessing import StandardScaler, OneHotEncoder\n",
    "from sklearn.compose import ColumnTransformer\n",
    "import numpy as np"
   ]
  },
  {
   "cell_type": "code",
   "execution_count": 10,
   "metadata": {},
   "outputs": [],
   "source": [
    "# Load the dataset from the file\n",
    "file_path = \"data/flight_data_0-1.csv\"\n",
    "data = pd.read_csv(file_path)"
   ]
  },
  {
   "cell_type": "code",
   "execution_count": 11,
   "metadata": {},
   "outputs": [],
   "source": [
    "# Define features and target variable\n",
    "categorical_features = [\"AIRLINE\", \"ORIGIN\", \"DEST\"]\n",
    "numerical_features = [\n",
    "    \"ELAPSED_TIME\", \"AIR_TIME\", \"DISTANCE\", \"MONTH\", \"DAY_OF_WEEK\",\n",
    "    \"DEP_HOUR\", \"MONTHLY_DELAY_INDICATOR\", \"ROUTE_DELAY_INDICATOR\"\n",
    "]\n",
    "target = \"ARR_DELAY\""
   ]
  },
  {
   "cell_type": "code",
   "execution_count": 12,
   "metadata": {},
   "outputs": [],
   "source": [
    "# Split data into features and target\n",
    "X = data[categorical_features + numerical_features]\n",
    "y = data[target]\n",
    "\n",
    "# Split into train and test sets\n",
    "X_train, X_test, y_train, y_test = train_test_split(X, y, test_size=0.2, random_state=42)"
   ]
  },
  {
   "cell_type": "code",
   "execution_count": 13,
   "metadata": {},
   "outputs": [],
   "source": [
    "# Preprocessing for numerical and categorical features\n",
    "# 1. Scale numerical features\n",
    "scaler = StandardScaler()\n",
    "X_train_num = scaler.fit_transform(X_train[numerical_features])\n",
    "X_test_num = scaler.transform(X_test[numerical_features])\n",
    "\n",
    "# 2. Encode categorical features\n",
    "encoder = OneHotEncoder(handle_unknown='ignore', sparse_output=False)\n",
    "X_train_cat = encoder.fit_transform(X_train[categorical_features])\n",
    "X_test_cat = encoder.transform(X_test[categorical_features])\n",
    "\n",
    "# Combine numerical and categorical features\n",
    "X_train_final = np.concatenate([X_train_num, X_train_cat], axis=1)\n",
    "X_test_final = np.concatenate([X_test_num, X_test_cat], axis=1)"
   ]
  },
  {
   "cell_type": "code",
   "execution_count": 14,
   "metadata": {},
   "outputs": [],
   "source": [
    "# Train the Linear Regression model\n",
    "model = LinearRegression()\n",
    "model.fit(X_train_final, y_train)\n",
    "\n",
    "# Make predictions\n",
    "y_pred = model.predict(X_test_final)"
   ]
  },
  {
   "cell_type": "code",
   "execution_count": 15,
   "metadata": {},
   "outputs": [
    {
     "name": "stdout",
     "output_type": "stream",
     "text": [
      "Mean Squared Error: 0.13753838874633395\n",
      "R^2 Score: 0.1685314295226874\n"
     ]
    }
   ],
   "source": [
    "# Evaluate the model\n",
    "mse = mean_squared_error(y_test, y_pred)\n",
    "r2 = r2_score(y_test, y_pred)\n",
    "\n",
    "print(\"Mean Squared Error:\", mse)\n",
    "print(\"R^2 Score:\", r2)"
   ]
  },
  {
   "cell_type": "markdown",
   "metadata": {},
   "source": [
    "# 15+ Dataset"
   ]
  },
  {
   "cell_type": "code",
   "execution_count": 16,
   "metadata": {},
   "outputs": [],
   "source": [
    "# Load the second dataset (flight_data_15+.csv)\n",
    "file_path_15_plus = \"data/flight_data_15+.csv\"\n",
    "data_15_plus = pd.read_csv(file_path_15_plus)"
   ]
  },
  {
   "cell_type": "code",
   "execution_count": 17,
   "metadata": {},
   "outputs": [],
   "source": [
    "# Split the dataset into features and target\n",
    "X_15_plus = data_15_plus[categorical_features + numerical_features]\n",
    "y_15_plus = data_15_plus[target]\n",
    "\n",
    "# Split into train and test sets\n",
    "X_train_15_plus, X_test_15_plus, y_train_15_plus, y_test_15_plus = train_test_split(X_15_plus, y_15_plus, test_size=0.2, random_state=42)"
   ]
  },
  {
   "cell_type": "code",
   "execution_count": 19,
   "metadata": {},
   "outputs": [],
   "source": [
    "# Preprocessing for the dataset\n",
    "# 1. Scale numerical features\n",
    "scaler_15_plus = StandardScaler()\n",
    "X_train_num_15_plus = scaler_15_plus.fit_transform(X_train_15_plus[numerical_features])\n",
    "X_test_num_15_plus = scaler_15_plus.transform(X_test_15_plus[numerical_features])\n",
    "\n",
    "# 2. Encode categorical features\n",
    "encoder_15_plus = OneHotEncoder(handle_unknown='ignore', sparse_output=False)\n",
    "X_train_cat_15_plus = encoder_15_plus.fit_transform(X_train_15_plus[categorical_features])\n",
    "X_test_cat_15_plus = encoder_15_plus.transform(X_test_15_plus[categorical_features])\n",
    "\n",
    "# Combine numerical and categorical features\n",
    "X_train_final_15_plus = np.concatenate([X_train_num_15_plus, X_train_cat_15_plus], axis=1)\n",
    "X_test_final_15_plus = np.concatenate([X_test_num_15_plus, X_test_cat_15_plus], axis=1)"
   ]
  },
  {
   "cell_type": "code",
   "execution_count": 20,
   "metadata": {},
   "outputs": [],
   "source": [
    "# Train the Linear Regression model\n",
    "model_15_plus = LinearRegression()\n",
    "model_15_plus.fit(X_train_final_15_plus, y_train_15_plus)\n",
    "\n",
    "# Make predictions\n",
    "y_pred_15_plus = model_15_plus.predict(X_test_final_15_plus)"
   ]
  },
  {
   "cell_type": "code",
   "execution_count": 21,
   "metadata": {},
   "outputs": [
    {
     "name": "stdout",
     "output_type": "stream",
     "text": [
      "Dataset 15+:\n",
      "Mean Squared Error: 1337.7629515480642\n",
      "R^2 Score: 0.08999619408772153\n"
     ]
    }
   ],
   "source": [
    "# Evaluate the model\n",
    "mse_15_plus = mean_squared_error(y_test_15_plus, y_pred_15_plus)\n",
    "r2_15_plus = r2_score(y_test_15_plus, y_pred_15_plus)\n",
    "\n",
    "# Print evaluation results\n",
    "print(\"Dataset 15+:\")\n",
    "print(\"Mean Squared Error:\", mse_15_plus)\n",
    "print(\"R^2 Score:\", r2_15_plus)"
   ]
  }
 ],
 "metadata": {
  "kernelspec": {
   "display_name": "Python 3",
   "language": "python",
   "name": "python3"
  },
  "language_info": {
   "codemirror_mode": {
    "name": "ipython",
    "version": 3
   },
   "file_extension": ".py",
   "mimetype": "text/x-python",
   "name": "python",
   "nbconvert_exporter": "python",
   "pygments_lexer": "ipython3",
   "version": "3.11.9"
  }
 },
 "nbformat": 4,
 "nbformat_minor": 2
}
